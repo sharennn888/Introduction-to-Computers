{
  "nbformat": 4,
  "nbformat_minor": 0,
  "metadata": {
    "colab": {
      "provenance": [],
      "authorship_tag": "ABX9TyMKm8/qVLhVeH1st/IJ32GR",
      "include_colab_link": true
    },
    "kernelspec": {
      "name": "python3",
      "display_name": "Python 3"
    },
    "language_info": {
      "name": "python"
    }
  },
  "cells": [
    {
      "cell_type": "markdown",
      "metadata": {
        "id": "view-in-github",
        "colab_type": "text"
      },
      "source": [
        "<a href=\"https://colab.research.google.com/github/sharennn888/Introduction-to-Computers/blob/main/0503.ipynb\" target=\"_parent\"><img src=\"https://colab.research.google.com/assets/colab-badge.svg\" alt=\"Open In Colab\"/></a>"
      ]
    },
    {
      "cell_type": "code",
      "execution_count": 2,
      "metadata": {
        "colab": {
          "base_uri": "https://localhost:8080/"
        },
        "id": "y8ZjZQL_LOSr",
        "outputId": "4d2c57d5-8836-4ab1-a9f1-1dd6e87a661f"
      },
      "outputs": [
        {
          "output_type": "stream",
          "name": "stdout",
          "text": [
            "peiyu\n"
          ]
        }
      ],
      "source": [
        "print(\"peiyu\")"
      ]
    },
    {
      "cell_type": "code",
      "source": [
        "x=int(input())\n",
        "sum=0\n",
        "for i in range(1,x+1):\n",
        "  sum+=i\n",
        "print(sum)"
      ],
      "metadata": {
        "colab": {
          "base_uri": "https://localhost:8080/"
        },
        "id": "fEcUjeYmLQBn",
        "outputId": "5753b722-bda0-49ca-ccc4-d0ffc2953f73"
      },
      "execution_count": 4,
      "outputs": [
        {
          "output_type": "stream",
          "name": "stdout",
          "text": [
            "100\n",
            "5050\n"
          ]
        }
      ]
    },
    {
      "cell_type": "code",
      "source": [
        "height = int(input(\"please input your height(cm): \"))\n",
        "weight = int(input(\"please input your weight(kg): \"))\n",
        "bmi = weight/((height/100)**2)\n",
        "print(\"身高\"+str(height),\"公分,體重\"+str(weight),\"公斤,BMI值為\",\"%.2f\" %bmi)"
      ],
      "metadata": {
        "colab": {
          "base_uri": "https://localhost:8080/"
        },
        "id": "TiajuPZpLSu1",
        "outputId": "ac820d45-83fe-4889-c843-309045b53b4a"
      },
      "execution_count": 5,
      "outputs": [
        {
          "output_type": "stream",
          "name": "stdout",
          "text": [
            "please input your height(cm): 176\n",
            "please input your weight(kg): 75\n",
            "身高176 公分,體重75 公斤,BMI值為 24.21\n"
          ]
        }
      ]
    }
  ]
}