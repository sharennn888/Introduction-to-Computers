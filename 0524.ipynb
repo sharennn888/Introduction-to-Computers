{
  "nbformat": 4,
  "nbformat_minor": 0,
  "metadata": {
    "colab": {
      "provenance": [],
      "authorship_tag": "ABX9TyMzF5YIAJ1n85y2deqOARv8",
      "include_colab_link": true
    },
    "kernelspec": {
      "name": "python3",
      "display_name": "Python 3"
    },
    "language_info": {
      "name": "python"
    }
  },
  "cells": [
    {
      "cell_type": "markdown",
      "metadata": {
        "id": "view-in-github",
        "colab_type": "text"
      },
      "source": [
        "<a href=\"https://colab.research.google.com/github/sharennn888/Introduction-to-Computers/blob/main/0524.ipynb\" target=\"_parent\"><img src=\"https://colab.research.google.com/assets/colab-badge.svg\" alt=\"Open In Colab\"/></a>"
      ]
    },
    {
      "cell_type": "code",
      "execution_count": 1,
      "metadata": {
        "colab": {
          "base_uri": "https://localhost:8080/"
        },
        "id": "EBD3Jk_oTjqB",
        "outputId": "b3c97355-fa86-4f35-efa1-f4f72d88a26f"
      },
      "outputs": [
        {
          "output_type": "stream",
          "name": "stdout",
          "text": [
            "[0, 1, 2, 3, 4, 5, 6, 7, 8]\n"
          ]
        }
      ],
      "source": [
        "x=[]\n",
        "for i in range(0,9):\n",
        "  x.append(i)\n",
        "print(x)"
      ]
    },
    {
      "cell_type": "code",
      "source": [
        "x=[]\n",
        "for i in range(1,10,2):\n",
        "  x.append(i)\n",
        "print(x)"
      ],
      "metadata": {
        "colab": {
          "base_uri": "https://localhost:8080/"
        },
        "id": "mj-8c-58TuQa",
        "outputId": "0710e21e-cb03-481a-bd14-df29cbe025fb"
      },
      "execution_count": 2,
      "outputs": [
        {
          "output_type": "stream",
          "name": "stdout",
          "text": [
            "[1, 3, 5, 7, 9]\n"
          ]
        }
      ]
    },
    {
      "cell_type": "code",
      "source": [
        "x=[]\n",
        "for i in range(10,1,-2):\n",
        "  x.append(i)\n",
        "print(x)"
      ],
      "metadata": {
        "colab": {
          "base_uri": "https://localhost:8080/"
        },
        "id": "CDx_BlCUT5My",
        "outputId": "ef06b1c2-6fea-45d6-f2d1-2508975a93d3"
      },
      "execution_count": 3,
      "outputs": [
        {
          "output_type": "stream",
          "name": "stdout",
          "text": [
            "[10, 8, 6, 4, 2]\n"
          ]
        }
      ]
    },
    {
      "cell_type": "code",
      "source": [
        "x=int(input(\"請輸入一個正整數\"))\n",
        "for i in range(0,x+1):\n",
        "  print(i,end=\" \")"
      ],
      "metadata": {
        "colab": {
          "base_uri": "https://localhost:8080/"
        },
        "id": "N-9Cxwf6UDWc",
        "outputId": "c361a73c-73f2-41e2-a28e-88a808f03c51"
      },
      "execution_count": 5,
      "outputs": [
        {
          "output_type": "stream",
          "name": "stdout",
          "text": [
            "請輸入一個正整數5\n",
            "0 1 2 3 4 5 "
          ]
        }
      ]
    },
    {
      "cell_type": "code",
      "source": [
        "x=int(input(\"請輸入一個正整數：\"))\n",
        "y=0\n",
        "for i in range (1,x+1):\n",
        "  y+=i\n",
        "print(\"1到\"+str(x)+\"的整數和為：\"+str(y))"
      ],
      "metadata": {
        "colab": {
          "base_uri": "https://localhost:8080/"
        },
        "id": "sxXa4bX1UL-l",
        "outputId": "c8a58950-258c-488a-babd-9f9e78e61425"
      },
      "execution_count": 4,
      "outputs": [
        {
          "output_type": "stream",
          "name": "stdout",
          "text": [
            "請輸入一個正整數：50\n",
            "1到50的整數和為：1275\n"
          ]
        }
      ]
    },
    {
      "cell_type": "code",
      "source": [
        "x=int(input(\"請輸入一個正整數：\"))\n",
        "y=0\n",
        "for i  in range(1,x+1):\n",
        "  y=0\n",
        "  for ii in range (1,i+1):\n",
        "    y+=ii\n",
        "  print(\"1到\"+str(x)+\"的整數和為：\"+str(y))"
      ],
      "metadata": {
        "colab": {
          "base_uri": "https://localhost:8080/"
        },
        "id": "XQMjvaCtUWAs",
        "outputId": "c609dcfc-98ec-4e36-87bf-bf116286c96f"
      },
      "execution_count": 6,
      "outputs": [
        {
          "output_type": "stream",
          "name": "stdout",
          "text": [
            "請輸入一個正整數：10\n",
            "1到10的整數和為：1\n",
            "1到10的整數和為：3\n",
            "1到10的整數和為：6\n",
            "1到10的整數和為：10\n",
            "1到10的整數和為：15\n",
            "1到10的整數和為：21\n",
            "1到10的整數和為：28\n",
            "1到10的整數和為：36\n",
            "1到10的整數和為：45\n",
            "1到10的整數和為：55\n"
          ]
        }
      ]
    }
  ]
}